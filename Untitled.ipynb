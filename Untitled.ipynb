{
 "cells": [
  {
   "cell_type": "code",
   "execution_count": 36,
   "id": "formal-target",
   "metadata": {
    "tags": []
   },
   "outputs": [],
   "source": [
    "which= \"B\"\n",
    "problem_name=\"No.\"+code.split('\\n')[0].split('/')[-1]\n",
    "with open(\"C:/Users/user/Desktop/Workspace/algo/Algorithm/%s-%s.py\"%(which,problem_name),'w') as f:\n",
    "    f.write(code)"
   ]
  },
  {
   "cell_type": "code",
   "execution_count": 6,
   "id": "developmental-safety",
   "metadata": {},
   "outputs": [
    {
     "name": "stdout",
     "output_type": "stream",
     "text": [
      "Updating 484d140..7ae41cb\n"
     ]
    },
    {
     "name": "stderr",
     "output_type": "stream",
     "text": [
      "From https://github.com/hufs-pnp/Algorithm\n",
      " * branch            main       -> FETCH_HEAD\n",
      "error: The following untracked working tree files would be overwritten by merge:\n",
      "\t2nd-21.06.29/�븯-16�뿀�꽦�씪.py\n",
      "Please move or remove them before you merge.\n",
      "Aborting\n"
     ]
    }
   ],
   "source": [
    "!git pull origin main"
   ]
  },
  {
   "cell_type": "code",
   "execution_count": 2,
   "id": "elder-matthew",
   "metadata": {},
   "outputs": [
    {
     "name": "stdout",
     "output_type": "stream",
     "text": [
      "* master\n"
     ]
    }
   ],
   "source": [
    "!git branch"
   ]
  },
  {
   "cell_type": "code",
   "execution_count": 3,
   "id": "dated-transportation",
   "metadata": {},
   "outputs": [],
   "source": [
    "!git branch main"
   ]
  },
  {
   "cell_type": "code",
   "execution_count": 4,
   "id": "stupid-airport",
   "metadata": {},
   "outputs": [
    {
     "name": "stderr",
     "output_type": "stream",
     "text": [
      "Switched to branch 'main'\n"
     ]
    }
   ],
   "source": [
    "!git checkout main"
   ]
  },
  {
   "cell_type": "code",
   "execution_count": 5,
   "id": "ultimate-istanbul",
   "metadata": {},
   "outputs": [
    {
     "name": "stdout",
     "output_type": "stream",
     "text": [
      "Deleted branch master (was 484d140).\n"
     ]
    }
   ],
   "source": [
    "!git branch master -d"
   ]
  },
  {
   "cell_type": "code",
   "execution_count": null,
   "id": "attempted-element",
   "metadata": {},
   "outputs": [],
   "source": []
  }
 ],
 "metadata": {
  "kernelspec": {
   "display_name": "Python 3",
   "language": "python",
   "name": "python3"
  },
  "language_info": {
   "codemirror_mode": {
    "name": "ipython",
    "version": 3
   },
   "file_extension": ".py",
   "mimetype": "text/x-python",
   "name": "python",
   "nbconvert_exporter": "python",
   "pygments_lexer": "ipython3",
   "version": "3.9.2"
  }
 },
 "nbformat": 4,
 "nbformat_minor": 5
}
